{
 "cells": [
  {
   "cell_type": "markdown",
   "metadata": {
    "datalore": {
     "hide_input_from_viewers": false,
     "hide_output_from_viewers": false,
     "node_id": "Collibra Starburst Integration - Data Products",
     "sheet_delimiter": true,
     "type": "MD"
    }
   },
   "source": [
    "# Collibra Starburst Integration - Data Products"
   ]
  },
  {
   "cell_type": "code",
   "execution_count": null,
   "metadata": {
    "datalore": {
     "hide_input_from_viewers": true,
     "hide_output_from_viewers": true,
     "node_id": "lI4dv61iUGPnq4TG88TzQw",
     "type": "CODE"
    }
   },
   "outputs": [],
   "source": [
    "## STEP 1:  Install required packages\n",
    "!pip install -U -r requirements.txt"
   ]
  },
  {
   "cell_type": "code",
   "execution_count": null,
   "metadata": {
    "datalore": {
     "hide_input_from_viewers": true,
     "hide_output_from_viewers": true,
     "node_id": "i0RGvuNa8phnK9KfnVlvhi",
     "type": "CODE"
    }
   },
   "outputs": [],
   "source": [
    "## STEP 2:  Import common packages, helper classes and helper functions\n",
    "import getpass\n",
    "from helper import StarburstCollibraFacade"
   ]
  },
  {
   "cell_type": "code",
   "execution_count": null,
   "metadata": {
    "datalore": {
     "hide_input_from_viewers": true,
     "hide_output_from_viewers": true,
     "node_id": "13Y1GiYuj0sjKVJSJDZvt2",
     "type": "CODE"
    }
   },
   "outputs": [],
   "source": [
    "## STEP 3:  Provide Starburst environment details (URL, username, role, password)\n",
    "sep_url = input('Enter the URL for your Starburst Enterprise instance (example: https://mystarburstcluster.com):\\n')\n",
    "sep_user = input('\\n\\nEnter your username:\\n')\n",
    "sep_role = input('\\n\\nIf you are using BIAC, enter your role name (leave blank otherwise):\\n')\n",
    "sep_pwd = getpass.getpass('\\n\\nEnter your password:\\n')"
   ]
  },
  {
   "cell_type": "code",
   "execution_count": null,
   "metadata": {
    "datalore": {
     "hide_input_from_viewers": true,
     "hide_output_from_viewers": true,
     "node_id": "BfBdDgQD62sGOFfYC6iWNS",
     "type": "CODE"
    }
   },
   "outputs": [],
   "source": [
    "## STEP 4:  Provide Collibra environment details (URL, username, password)\n",
    "collibra_url = input('Enter the URL for your Collibra Cloud instance (example: https://<domain>.collibra.com): \\n')\n",
    "collibra_user = input('\\n\\nEnter your username:\\n')\n",
    "collibra_pwd = getpass.getpass('\\n\\nEnter your password:\\n')"
   ]
  },
  {
   "cell_type": "code",
   "execution_count": null,
   "metadata": {
    "datalore": {
     "hide_input_from_viewers": true,
     "hide_output_from_viewers": true,
     "node_id": "1PlhzicAb8IEZQZ8HJghqq",
     "type": "CODE"
    }
   },
   "outputs": [],
   "source": [
    "## STEP 5:  Provide temp directory, Collibra community name and system ID\n",
    "tmp_dir = input('\\n\\nEnter tmp_dir location:\\n')\n",
    "community_input = input('\\n\\nEnter the community where the data domain and products will be loaded:\\n')\n",
    "system_id_input = input('\\n\\nEnter the system id where the database schema and metadata are linked:\\n')"
   ]
  },
  {
   "cell_type": "code",
   "execution_count": null,
   "metadata": {
    "datalore": {
     "hide_input_from_viewers": true,
     "hide_output_from_viewers": true,
     "node_id": "TTkEEWAtRIpXQzAcKcqgGM",
     "type": "CODE"
    }
   },
   "outputs": [],
   "source": [
    "## STEP 6:  Import Starburst data domains and data products into Collibra\n",
    "\n",
    "## Instantiate the facade class, which was created to simplify the notebook implementation\n",
    "starburstCollibraFacade = StarburstCollibraFacade(sep_url=sep_url,\n",
    "                                                  sep_user=sep_user,\n",
    "                                                  sep_role=sep_role,\n",
    "                                                  sep_pwd = sep_pwd,\n",
    "                                                  collibra_url = collibra_url,\n",
    "                                                  collibra_user = collibra_user,\n",
    "                                                  collibra_pwd = collibra_pwd,\n",
    "                                                  tmp_dir = tmp_dir\n",
    "                                                  )\n",
    "\n",
    "## Extract all data domains from Starburst and ingest into Collibra\n",
    "print ('About to pull/ingest all the data domains from Starburst to Collibra.')\n",
    "starburstCollibraFacade.query_and_import_data_domains(community = community_input)\n",
    "\n",
    "## Extract all 'published' data products from Starburst and ingest into Collibra\n",
    "print ('\nAbout to pull/ingest all the published data products from Starburst to Collibra.')\n",
    "starburstCollibraFacade.query_and_import_data_products(community = community_input, system_id = system_id_input)\n",
    "\n",
    "print ('\nCompleted')"
   ]
  }
 ],
 "metadata": {
  "datalore": {
   "base_environment": "default",
   "computation_mode": "REACTIVE",
   "package_manager": "pip",
   "packages": [
    {
     "name": "collibra-core",
     "source": "PIP"
    },
    {
     "name": "collibra-importer",
     "source": "PIP"
    }
   ],
   "report_row_ids": [],
   "version": 3
  },
  "kernelspec": {
   "display_name": "Python 3 (ipykernel)",
   "language": "python",
   "name": "python3"
  },
  "language_info": {
   "codemirror_mode": {
    "name": "ipython",
    "version": 3
   },
   "file_extension": ".py",
   "mimetype": "text/x-python",
   "name": "python",
   "nbconvert_exporter": "python",
   "pygments_lexer": "ipython3",
   "version": "3.9.7"
  }
 },
 "nbformat": 4,
 "nbformat_minor": 4
}
